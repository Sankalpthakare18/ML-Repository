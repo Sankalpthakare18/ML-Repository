{
 "cells": [
  {
   "cell_type": "code",
   "execution_count": 4,
   "id": "309c194c-c64f-49e2-a98d-cfa50f49695b",
   "metadata": {},
   "outputs": [
    {
     "name": "stdout",
     "output_type": "stream",
     "text": [
      "Requirement already satisfied: pandas in c:\\users\\swamini\\appdata\\local\\programs\\python\\python312\\lib\\site-packages (2.2.2)\n",
      "Requirement already satisfied: numpy>=1.26.0 in c:\\users\\swamini\\appdata\\local\\programs\\python\\python312\\lib\\site-packages (from pandas) (2.0.0)\n",
      "Requirement already satisfied: python-dateutil>=2.8.2 in c:\\users\\swamini\\appdata\\local\\programs\\python\\python312\\lib\\site-packages (from pandas) (2.9.0.post0)\n",
      "Requirement already satisfied: pytz>=2020.1 in c:\\users\\swamini\\appdata\\local\\programs\\python\\python312\\lib\\site-packages (from pandas) (2024.1)\n",
      "Requirement already satisfied: tzdata>=2022.7 in c:\\users\\swamini\\appdata\\local\\programs\\python\\python312\\lib\\site-packages (from pandas) (2024.1)\n",
      "Requirement already satisfied: six>=1.5 in c:\\users\\swamini\\appdata\\local\\programs\\python\\python312\\lib\\site-packages (from python-dateutil>=2.8.2->pandas) (1.16.0)\n"
     ]
    },
    {
     "name": "stderr",
     "output_type": "stream",
     "text": [
      "\n",
      "[notice] A new release of pip is available: 24.0 -> 24.1.2\n",
      "[notice] To update, run: python.exe -m pip install --upgrade pip\n"
     ]
    }
   ],
   "source": [
    "!pip install pandas"
   ]
  },
  {
   "cell_type": "code",
   "execution_count": 56,
   "id": "6e5db34a-b385-410c-b1d5-6a2dcc5b782b",
   "metadata": {},
   "outputs": [
    {
     "name": "stdout",
     "output_type": "stream",
     "text": [
      "['apple' 'banana' 'cherry']\n",
      "[100 200 300]\n",
      "0     apple\n",
      "1    banana\n",
      "2    cherry\n",
      "dtype: object\n",
      "<class 'pandas.core.series.Series'>\n",
      "banana\n",
      "0    100\n",
      "1    200\n",
      "2    300\n",
      "dtype: int64\n",
      "100\n",
      "    Fruit  Prices\n",
      "0   apple     100\n",
      "1  banana     200\n",
      "2  cherry     300\n"
     ]
    }
   ],
   "source": [
    "import pandas as pd\n",
    "import numpy as np\n",
    "\n",
    "fruits = np.array(['apple', 'banana', 'cherry'])\n",
    "prices = np.array([100, 200, 300])\n",
    "\n",
    "print(fruits)\n",
    "print(prices)\n",
    "fruits_series=pd.Series(fruits)\n",
    "print(fruits_series)\n",
    "print(type(fruits_series))\n",
    "print(fruits_series[1])\n",
    "prices_series=pd.Series(prices)\n",
    "print(prices_series)\n",
    "print(prices_series[0])\n",
    "\n",
    "\n",
    "\n",
    "\n",
    "Fp_dict={\n",
    "    'Fruit':fruits,\n",
    "    'Prices':prices\n",
    "}\n",
    "df_Fp=pd.DataFrame(Fp_dict)\n",
    "print(df_Fp)\n"
   ]
  },
  {
   "cell_type": "code",
   "execution_count": 60,
   "id": "7241a3cb-0d1e-462d-8eb1-b0339532fcdc",
   "metadata": {},
   "outputs": [
    {
     "data": {
      "text/html": [
       "<div>\n",
       "<style scoped>\n",
       "    .dataframe tbody tr th:only-of-type {\n",
       "        vertical-align: middle;\n",
       "    }\n",
       "\n",
       "    .dataframe tbody tr th {\n",
       "        vertical-align: top;\n",
       "    }\n",
       "\n",
       "    .dataframe thead th {\n",
       "        text-align: right;\n",
       "    }\n",
       "</style>\n",
       "<table border=\"1\" class=\"dataframe\">\n",
       "  <thead>\n",
       "    <tr style=\"text-align: right;\">\n",
       "      <th></th>\n",
       "      <th>Fruit</th>\n",
       "      <th>Prices</th>\n",
       "    </tr>\n",
       "  </thead>\n",
       "  <tbody>\n",
       "    <tr>\n",
       "      <th>0</th>\n",
       "      <td>apple</td>\n",
       "      <td>100</td>\n",
       "    </tr>\n",
       "  </tbody>\n",
       "</table>\n",
       "</div>"
      ],
      "text/plain": [
       "   Fruit  Prices\n",
       "0  apple     100"
      ]
     },
     "execution_count": 60,
     "metadata": {},
     "output_type": "execute_result"
    }
   ],
   "source": [
    "df_Fp.loc[[0],[\"Fruit\",\"Prices\"]]"
   ]
  },
  {
   "cell_type": "code",
   "execution_count": null,
   "id": "2a7795e8-6e8d-489e-bfc8-34ce56d85f4a",
   "metadata": {},
   "outputs": [],
   "source": []
  },
  {
   "cell_type": "code",
   "execution_count": 30,
   "id": "d78ad17e-4c3c-4cb6-89cd-4972485a5452",
   "metadata": {},
   "outputs": [
    {
     "name": "stdout",
     "output_type": "stream",
     "text": [
      "['Sankalp' 'Sangam' 'Vivek' 'Samyak' 'Rushi']\n",
      "[1 2 3 4 5]\n",
      "[80 75 85 90 95]\n",
      "[ 2000  4000  9000  6000 75000]\n",
      "['DS' 'DA' 'BA' 'JAVA' 'C++']\n",
      "0    Sankalp\n",
      "1     Sangam\n",
      "2      Vivek\n",
      "3     Samyak\n",
      "4      Rushi\n",
      "dtype: object\n",
      "0    1\n",
      "1    2\n",
      "2    3\n",
      "3    4\n",
      "4    5\n",
      "dtype: int64\n",
      "0    80\n",
      "1    75\n",
      "2    85\n",
      "3    90\n",
      "4    95\n",
      "dtype: int64\n",
      "0     2000\n",
      "1     4000\n",
      "2     9000\n",
      "3     6000\n",
      "4    75000\n",
      "dtype: int64\n",
      "0      DS\n",
      "1      DA\n",
      "2      BA\n",
      "3    JAVA\n",
      "4     C++\n",
      "dtype: object\n",
      "  Student Name  Roll Number  Marks Courses   Fees\n",
      "0      Sankalp            1     80      DS   2000\n",
      "1       Sangam            2     75      DA   4000\n",
      "2        Vivek            3     85      BA   9000\n",
      "3       Samyak            4     90    JAVA   6000\n",
      "4        Rushi            5     95     C++  75000\n"
     ]
    }
   ],
   "source": [
    "import pandas as pd\n",
    "import numpy as np\n",
    "\n",
    "student_names = np.array(['Sankalp', 'Sangam', 'Vivek','Samyak','Rushi'])\n",
    "roll_numbers = np.array([1, 2, 3,4,5])\n",
    "marks = np.array([80,75,85, 90, 95])\n",
    "fees_paid = np.array([2000,4000,9000,6000,75000])\n",
    "courses = np.array(['DS', 'DA', 'BA','JAVA','C++'])\n",
    "\n",
    "print(student_names)\n",
    "print(roll_numbers)\n",
    "print(marks)\n",
    "print(fees_paid)\n",
    "print(courses)\n",
    "\n",
    "names_series = pd.Series(student_names)\n",
    "roll_numbers_series = pd.Series(roll_numbers)\n",
    "marks_series = pd.Series(marks)\n",
    "fees_series = pd.Series(fees_paid)\n",
    "courses_series = pd.Series(courses)\n",
    "\n",
    "print(names_series)\n",
    "print(roll_numbers_series)\n",
    "print(marks_series)\n",
    "print(fees_series)\n",
    "print(courses_series)\n",
    "\n",
    "students_dict = {\n",
    "    'Student Name': student_names,\n",
    "    'Roll Number': roll_numbers,\n",
    "    'Marks': marks,\n",
    "    'Courses' : courses,\n",
    "    'Fees': fees_paid\n",
    "}\n",
    "df_students = pd.DataFrame(students_dict)\n",
    "print(df_students)"
   ]
  },
  {
   "cell_type": "code",
   "execution_count": 24,
   "id": "49c4dce9-91a2-4e59-99d7-b339d69f14e3",
   "metadata": {},
   "outputs": [
    {
     "name": "stdout",
     "output_type": "stream",
     "text": [
      "  Student Name  Roll Number  Marks Courses  Fees\n",
      "1       Sangam            2     75      DA  4000\n"
     ]
    }
   ],
   "source": [
    "print(df_students[1:2])"
   ]
  },
  {
   "cell_type": "code",
   "execution_count": 26,
   "id": "40b38c69-9a13-4bc6-a0de-93732592c491",
   "metadata": {},
   "outputs": [
    {
     "name": "stdout",
     "output_type": "stream",
     "text": [
      "  Student Name  Roll Number  Marks Courses   Fees\n",
      "0      Sankalp            1     80      DS   2000\n",
      "1       Sangam            2     75      DA   4000\n",
      "2        Vivek            3     85      BA   9000\n",
      "3       Samyak            4     90    JAVA   6000\n",
      "4        Rushi            5     95     C++  75000\n"
     ]
    }
   ],
   "source": [
    "print (df_students[:5])"
   ]
  },
  {
   "cell_type": "code",
   "execution_count": 33,
   "id": "5722a0d1-d841-4612-bd23-59ace3b22cb8",
   "metadata": {},
   "outputs": [
    {
     "name": "stdout",
     "output_type": "stream",
     "text": [
      "0     apple\n",
      "1    banana\n",
      "2    cherry\n",
      "Name: Fruit, dtype: object\n"
     ]
    }
   ],
   "source": [
    "print(df_Fp[\"Fruit\"])"
   ]
  },
  {
   "cell_type": "code",
   "execution_count": 35,
   "id": "3baa091d-7c46-4833-bf00-84974d794c16",
   "metadata": {},
   "outputs": [
    {
     "name": "stdout",
     "output_type": "stream",
     "text": [
      "<class 'pandas.core.frame.DataFrame'>\n"
     ]
    }
   ],
   "source": [
    "print(type(df_Fp[[\"Fruit\"]]))"
   ]
  },
  {
   "cell_type": "code",
   "execution_count": 39,
   "id": "99aaafaf-4150-4951-9975-1a4942122f63",
   "metadata": {},
   "outputs": [
    {
     "data": {
      "text/plain": [
       "Student Name    Sankalp\n",
       "Roll Number           1\n",
       "Marks                80\n",
       "Courses              DS\n",
       "Fees               2000\n",
       "Name: 0, dtype: object"
      ]
     },
     "execution_count": 39,
     "metadata": {},
     "output_type": "execute_result"
    }
   ],
   "source": [
    "#accessing rows using labled based \n",
    "#iLoc-----accessing rows using index based\n",
    "df_students.loc[0]"
   ]
  },
  {
   "cell_type": "code",
   "execution_count": 49,
   "id": "8c92c394-cfb1-41ba-8dfc-45b960a50bba",
   "metadata": {},
   "outputs": [
    {
     "data": {
      "text/html": [
       "<div>\n",
       "<style scoped>\n",
       "    .dataframe tbody tr th:only-of-type {\n",
       "        vertical-align: middle;\n",
       "    }\n",
       "\n",
       "    .dataframe tbody tr th {\n",
       "        vertical-align: top;\n",
       "    }\n",
       "\n",
       "    .dataframe thead th {\n",
       "        text-align: right;\n",
       "    }\n",
       "</style>\n",
       "<table border=\"1\" class=\"dataframe\">\n",
       "  <thead>\n",
       "    <tr style=\"text-align: right;\">\n",
       "      <th></th>\n",
       "      <th>Student Name</th>\n",
       "      <th>Roll Number</th>\n",
       "      <th>Marks</th>\n",
       "      <th>Courses</th>\n",
       "      <th>Fees</th>\n",
       "    </tr>\n",
       "  </thead>\n",
       "  <tbody>\n",
       "    <tr>\n",
       "      <th>0</th>\n",
       "      <td>Sankalp</td>\n",
       "      <td>1</td>\n",
       "      <td>80</td>\n",
       "      <td>DS</td>\n",
       "      <td>2000</td>\n",
       "    </tr>\n",
       "    <tr>\n",
       "      <th>2</th>\n",
       "      <td>Vivek</td>\n",
       "      <td>3</td>\n",
       "      <td>85</td>\n",
       "      <td>BA</td>\n",
       "      <td>9000</td>\n",
       "    </tr>\n",
       "    <tr>\n",
       "      <th>3</th>\n",
       "      <td>Samyak</td>\n",
       "      <td>4</td>\n",
       "      <td>90</td>\n",
       "      <td>JAVA</td>\n",
       "      <td>6000</td>\n",
       "    </tr>\n",
       "    <tr>\n",
       "      <th>4</th>\n",
       "      <td>Rushi</td>\n",
       "      <td>5</td>\n",
       "      <td>95</td>\n",
       "      <td>C++</td>\n",
       "      <td>75000</td>\n",
       "    </tr>\n",
       "  </tbody>\n",
       "</table>\n",
       "</div>"
      ],
      "text/plain": [
       "  Student Name  Roll Number  Marks Courses   Fees\n",
       "0      Sankalp            1     80      DS   2000\n",
       "2        Vivek            3     85      BA   9000\n",
       "3       Samyak            4     90    JAVA   6000\n",
       "4        Rushi            5     95     C++  75000"
      ]
     },
     "execution_count": 49,
     "metadata": {},
     "output_type": "execute_result"
    }
   ],
   "source": [
    "df_students.loc[[0,2,3,4]]"
   ]
  },
  {
   "cell_type": "code",
   "execution_count": 53,
   "id": "a92a8278-8540-44cb-ae0f-909c10047074",
   "metadata": {},
   "outputs": [
    {
     "data": {
      "text/html": [
       "<div>\n",
       "<style scoped>\n",
       "    .dataframe tbody tr th:only-of-type {\n",
       "        vertical-align: middle;\n",
       "    }\n",
       "\n",
       "    .dataframe tbody tr th {\n",
       "        vertical-align: top;\n",
       "    }\n",
       "\n",
       "    .dataframe thead th {\n",
       "        text-align: right;\n",
       "    }\n",
       "</style>\n",
       "<table border=\"1\" class=\"dataframe\">\n",
       "  <thead>\n",
       "    <tr style=\"text-align: right;\">\n",
       "      <th></th>\n",
       "      <th>Student Name</th>\n",
       "      <th>Roll Number</th>\n",
       "      <th>Marks</th>\n",
       "      <th>Courses</th>\n",
       "      <th>Fees</th>\n",
       "    </tr>\n",
       "  </thead>\n",
       "  <tbody>\n",
       "    <tr>\n",
       "      <th>0</th>\n",
       "      <td>Sankalp</td>\n",
       "      <td>1</td>\n",
       "      <td>80</td>\n",
       "      <td>DS</td>\n",
       "      <td>2000</td>\n",
       "    </tr>\n",
       "    <tr>\n",
       "      <th>4</th>\n",
       "      <td>Rushi</td>\n",
       "      <td>5</td>\n",
       "      <td>95</td>\n",
       "      <td>C++</td>\n",
       "      <td>75000</td>\n",
       "    </tr>\n",
       "  </tbody>\n",
       "</table>\n",
       "</div>"
      ],
      "text/plain": [
       "  Student Name  Roll Number  Marks Courses   Fees\n",
       "0      Sankalp            1     80      DS   2000\n",
       "4        Rushi            5     95     C++  75000"
      ]
     },
     "execution_count": 53,
     "metadata": {},
     "output_type": "execute_result"
    }
   ],
   "source": [
    "df_students.iloc[[0,4]]"
   ]
  },
  {
   "cell_type": "code",
   "execution_count": 61,
   "id": "33ab9f1a-2b29-439d-a72a-881a7a384dcc",
   "metadata": {},
   "outputs": [
    {
     "data": {
      "text/html": [
       "<div>\n",
       "<style scoped>\n",
       "    .dataframe tbody tr th:only-of-type {\n",
       "        vertical-align: middle;\n",
       "    }\n",
       "\n",
       "    .dataframe tbody tr th {\n",
       "        vertical-align: top;\n",
       "    }\n",
       "\n",
       "    .dataframe thead th {\n",
       "        text-align: right;\n",
       "    }\n",
       "</style>\n",
       "<table border=\"1\" class=\"dataframe\">\n",
       "  <thead>\n",
       "    <tr style=\"text-align: right;\">\n",
       "      <th></th>\n",
       "      <th>Marks</th>\n",
       "      <th>Fees</th>\n",
       "    </tr>\n",
       "  </thead>\n",
       "  <tbody>\n",
       "    <tr>\n",
       "      <th>0</th>\n",
       "      <td>80</td>\n",
       "      <td>2000</td>\n",
       "    </tr>\n",
       "  </tbody>\n",
       "</table>\n",
       "</div>"
      ],
      "text/plain": [
       "   Marks  Fees\n",
       "0     80  2000"
      ]
     },
     "execution_count": 61,
     "metadata": {},
     "output_type": "execute_result"
    }
   ],
   "source": [
    "df_students.loc[[0],[\"Marks\",\"Fees\"]]"
   ]
  },
  {
   "cell_type": "code",
   "execution_count": 65,
   "id": "9a6d4a90-f3f6-4e6f-8082-07f7cc56e013",
   "metadata": {},
   "outputs": [
    {
     "data": {
      "text/html": [
       "<div>\n",
       "<style scoped>\n",
       "    .dataframe tbody tr th:only-of-type {\n",
       "        vertical-align: middle;\n",
       "    }\n",
       "\n",
       "    .dataframe tbody tr th {\n",
       "        vertical-align: top;\n",
       "    }\n",
       "\n",
       "    .dataframe thead th {\n",
       "        text-align: right;\n",
       "    }\n",
       "</style>\n",
       "<table border=\"1\" class=\"dataframe\">\n",
       "  <thead>\n",
       "    <tr style=\"text-align: right;\">\n",
       "      <th></th>\n",
       "      <th>Student Name</th>\n",
       "      <th>Courses</th>\n",
       "    </tr>\n",
       "  </thead>\n",
       "  <tbody>\n",
       "    <tr>\n",
       "      <th>0</th>\n",
       "      <td>Sankalp</td>\n",
       "      <td>DS</td>\n",
       "    </tr>\n",
       "    <tr>\n",
       "      <th>1</th>\n",
       "      <td>Sangam</td>\n",
       "      <td>DA</td>\n",
       "    </tr>\n",
       "    <tr>\n",
       "      <th>2</th>\n",
       "      <td>Vivek</td>\n",
       "      <td>BA</td>\n",
       "    </tr>\n",
       "    <tr>\n",
       "      <th>3</th>\n",
       "      <td>Samyak</td>\n",
       "      <td>JAVA</td>\n",
       "    </tr>\n",
       "  </tbody>\n",
       "</table>\n",
       "</div>"
      ],
      "text/plain": [
       "  Student Name Courses\n",
       "0      Sankalp      DS\n",
       "1       Sangam      DA\n",
       "2        Vivek      BA\n",
       "3       Samyak    JAVA"
      ]
     },
     "execution_count": 65,
     "metadata": {},
     "output_type": "execute_result"
    }
   ],
   "source": [
    "df_students.loc[0:3,[\"Student Name\",\"Courses\"]]"
   ]
  },
  {
   "cell_type": "code",
   "execution_count": 32,
   "id": "1f732d30-43a3-4520-a9bd-aed399f695b3",
   "metadata": {},
   "outputs": [
    {
     "data": {
      "text/html": [
       "<div>\n",
       "<style scoped>\n",
       "    .dataframe tbody tr th:only-of-type {\n",
       "        vertical-align: middle;\n",
       "    }\n",
       "\n",
       "    .dataframe tbody tr th {\n",
       "        vertical-align: top;\n",
       "    }\n",
       "\n",
       "    .dataframe thead th {\n",
       "        text-align: right;\n",
       "    }\n",
       "</style>\n",
       "<table border=\"1\" class=\"dataframe\">\n",
       "  <thead>\n",
       "    <tr style=\"text-align: right;\">\n",
       "      <th></th>\n",
       "      <th>Student Name</th>\n",
       "      <th>Roll Number</th>\n",
       "      <th>Marks</th>\n",
       "      <th>Courses</th>\n",
       "      <th>Fees</th>\n",
       "    </tr>\n",
       "  </thead>\n",
       "  <tbody>\n",
       "    <tr>\n",
       "      <th>0</th>\n",
       "      <td>Sankalp</td>\n",
       "      <td>1</td>\n",
       "      <td>80</td>\n",
       "      <td>DS</td>\n",
       "      <td>2000</td>\n",
       "    </tr>\n",
       "    <tr>\n",
       "      <th>1</th>\n",
       "      <td>Sangam</td>\n",
       "      <td>2</td>\n",
       "      <td>75</td>\n",
       "      <td>DA</td>\n",
       "      <td>4000</td>\n",
       "    </tr>\n",
       "    <tr>\n",
       "      <th>2</th>\n",
       "      <td>Vivek</td>\n",
       "      <td>3</td>\n",
       "      <td>85</td>\n",
       "      <td>BA</td>\n",
       "      <td>9000</td>\n",
       "    </tr>\n",
       "    <tr>\n",
       "      <th>3</th>\n",
       "      <td>Samyak</td>\n",
       "      <td>4</td>\n",
       "      <td>90</td>\n",
       "      <td>JAVA</td>\n",
       "      <td>6000</td>\n",
       "    </tr>\n",
       "    <tr>\n",
       "      <th>4</th>\n",
       "      <td>Rushi</td>\n",
       "      <td>5</td>\n",
       "      <td>95</td>\n",
       "      <td>C++</td>\n",
       "      <td>75000</td>\n",
       "    </tr>\n",
       "  </tbody>\n",
       "</table>\n",
       "</div>"
      ],
      "text/plain": [
       "  Student Name  Roll Number  Marks Courses   Fees\n",
       "0      Sankalp            1     80      DS   2000\n",
       "1       Sangam            2     75      DA   4000\n",
       "2        Vivek            3     85      BA   9000\n",
       "3       Samyak            4     90    JAVA   6000\n",
       "4        Rushi            5     95     C++  75000"
      ]
     },
     "execution_count": 32,
     "metadata": {},
     "output_type": "execute_result"
    }
   ],
   "source": [
    "df_students.iloc[ :,:]"
   ]
  },
  {
   "cell_type": "code",
   "execution_count": 69,
   "id": "ccdad8fe-7838-4152-91ef-2de9c6f9e7c5",
   "metadata": {},
   "outputs": [
    {
     "data": {
      "text/plain": [
       "Student Name    Sankalp\n",
       "Courses              DS\n",
       "Name: 0, dtype: object"
      ]
     },
     "execution_count": 69,
     "metadata": {},
     "output_type": "execute_result"
    }
   ],
   "source": [
    "df_students.iloc[0,[0,3]]"
   ]
  },
  {
   "cell_type": "code",
   "execution_count": 24,
   "id": "47e5b198-8748-45de-abfa-8bb4a08b8556",
   "metadata": {},
   "outputs": [
    {
     "ename": "SyntaxError",
     "evalue": "invalid syntax (1066803619.py, line 1)",
     "output_type": "error",
     "traceback": [
      "\u001b[1;36m  Cell \u001b[1;32mIn[24], line 1\u001b[1;36m\u001b[0m\n\u001b[1;33m    df_students.\"info\"()\u001b[0m\n\u001b[1;37m                ^\u001b[0m\n\u001b[1;31mSyntaxError\u001b[0m\u001b[1;31m:\u001b[0m invalid syntax\n"
     ]
    }
   ],
   "source": [
    "df_students.\"info\"()"
   ]
  },
  {
   "cell_type": "code",
   "execution_count": 33,
   "id": "4bfe0358-d109-466c-9e6f-b8173488ada5",
   "metadata": {},
   "outputs": [
    {
     "ename": "NameError",
     "evalue": "name 'df_student' is not defined",
     "output_type": "error",
     "traceback": [
      "\u001b[1;31m---------------------------------------------------------------------------\u001b[0m",
      "\u001b[1;31mNameError\u001b[0m                                 Traceback (most recent call last)",
      "Cell \u001b[1;32mIn[33], line 1\u001b[0m\n\u001b[1;32m----> 1\u001b[0m df_students[\u001b[38;5;124m'\u001b[39m\u001b[38;5;124mpercentage\u001b[39m\u001b[38;5;124m'\u001b[39m]\u001b[38;5;241m=\u001b[39m\u001b[43mdf_student\u001b[49m[\u001b[38;5;124m'\u001b[39m\u001b[38;5;124mMarks\u001b[39m\u001b[38;5;124m'\u001b[39m]\u001b[38;5;241m/\u001b[39m\u001b[38;5;241m200\u001b[39m\u001b[38;5;241m*\u001b[39m\u001b[38;5;241m100\u001b[39m\n\u001b[0;32m      2\u001b[0m \u001b[38;5;28mprint\u001b[39m(df_students)\n",
      "\u001b[1;31mNameError\u001b[0m: name 'df_student' is not defined"
     ]
    }
   ],
   "source": [
    "df_students['percentage']=df_student['Marks']/200*100\n",
    "print(df_students)"
   ]
  },
  {
   "cell_type": "code",
   "execution_count": null,
   "id": "50a96d8e-1015-4a75-866e-d6744a1c387e",
   "metadata": {},
   "outputs": [],
   "source": []
  },
  {
   "cell_type": "code",
   "execution_count": null,
   "id": "0f115bc1-6770-42df-a838-3625434985f1",
   "metadata": {},
   "outputs": [],
   "source": []
  }
 ],
 "metadata": {
  "kernelspec": {
   "display_name": "Python 3 (ipykernel)",
   "language": "python",
   "name": "python3"
  },
  "language_info": {
   "codemirror_mode": {
    "name": "ipython",
    "version": 3
   },
   "file_extension": ".py",
   "mimetype": "text/x-python",
   "name": "python",
   "nbconvert_exporter": "python",
   "pygments_lexer": "ipython3",
   "version": "3.12.4"
  }
 },
 "nbformat": 4,
 "nbformat_minor": 5
}
